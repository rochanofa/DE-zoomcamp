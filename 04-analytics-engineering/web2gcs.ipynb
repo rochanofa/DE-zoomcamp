{
 "cells": [
  {
   "cell_type": "code",
   "execution_count": 29,
   "id": "05cb4ed9-f477-4847-a798-145123f1b5b7",
   "metadata": {},
   "outputs": [
    {
     "name": "stdout",
     "output_type": "stream",
     "text": [
      "Requirement already satisfied: pandas in c:\\users\\rocha\\appdata\\roaming\\python\\python312\\site-packages (2.2.3)\n",
      "Requirement already satisfied: pyarrow in c:\\users\\rocha\\anaconda3\\envs\\test_env\\lib\\site-packages (17.0.0)\n",
      "Requirement already satisfied: google-cloud-storage in c:\\users\\rocha\\anaconda3\\envs\\test_env\\lib\\site-packages (3.0.0)\n",
      "Requirement already satisfied: numpy>=1.26.0 in c:\\users\\rocha\\anaconda3\\envs\\test_env\\lib\\site-packages (from pandas) (1.26.4)\n",
      "Requirement already satisfied: python-dateutil>=2.8.2 in c:\\users\\rocha\\appdata\\roaming\\python\\python312\\site-packages (from pandas) (2.9.0.post0)\n",
      "Requirement already satisfied: pytz>=2020.1 in c:\\users\\rocha\\appdata\\roaming\\python\\python312\\site-packages (from pandas) (2024.2)\n",
      "Requirement already satisfied: tzdata>=2022.7 in c:\\users\\rocha\\appdata\\roaming\\python\\python312\\site-packages (from pandas) (2024.2)\n",
      "Requirement already satisfied: google-auth<3.0dev,>=2.26.1 in c:\\users\\rocha\\anaconda3\\envs\\test_env\\lib\\site-packages (from google-cloud-storage) (2.38.0)\n",
      "Requirement already satisfied: google-api-core<3.0.0dev,>=2.15.0 in c:\\users\\rocha\\anaconda3\\envs\\test_env\\lib\\site-packages (from google-cloud-storage) (2.24.1)\n",
      "Requirement already satisfied: google-cloud-core<3.0dev,>=2.3.0 in c:\\users\\rocha\\anaconda3\\envs\\test_env\\lib\\site-packages (from google-cloud-storage) (2.4.1)\n",
      "Requirement already satisfied: google-resumable-media>=2.7.2 in c:\\users\\rocha\\anaconda3\\envs\\test_env\\lib\\site-packages (from google-cloud-storage) (2.7.2)\n",
      "Requirement already satisfied: requests<3.0.0dev,>=2.18.0 in c:\\users\\rocha\\anaconda3\\envs\\test_env\\lib\\site-packages (from google-cloud-storage) (2.32.3)\n",
      "Requirement already satisfied: google-crc32c<2.0dev,>=1.0 in c:\\users\\rocha\\anaconda3\\envs\\test_env\\lib\\site-packages (from google-cloud-storage) (1.6.0)\n",
      "Requirement already satisfied: googleapis-common-protos<2.0.dev0,>=1.56.2 in c:\\users\\rocha\\anaconda3\\envs\\test_env\\lib\\site-packages (from google-api-core<3.0.0dev,>=2.15.0->google-cloud-storage) (1.66.0)\n",
      "Requirement already satisfied: protobuf!=3.20.0,!=3.20.1,!=4.21.0,!=4.21.1,!=4.21.2,!=4.21.3,!=4.21.4,!=4.21.5,<6.0.0.dev0,>=3.19.5 in c:\\users\\rocha\\anaconda3\\envs\\test_env\\lib\\site-packages (from google-api-core<3.0.0dev,>=2.15.0->google-cloud-storage) (4.25.3)\n",
      "Requirement already satisfied: proto-plus<2.0.0dev,>=1.22.3 in c:\\users\\rocha\\anaconda3\\envs\\test_env\\lib\\site-packages (from google-api-core<3.0.0dev,>=2.15.0->google-cloud-storage) (1.26.0)\n",
      "Requirement already satisfied: cachetools<6.0,>=2.0.0 in c:\\users\\rocha\\anaconda3\\envs\\test_env\\lib\\site-packages (from google-auth<3.0dev,>=2.26.1->google-cloud-storage) (5.3.3)\n",
      "Requirement already satisfied: pyasn1-modules>=0.2.1 in c:\\users\\rocha\\anaconda3\\envs\\test_env\\lib\\site-packages (from google-auth<3.0dev,>=2.26.1->google-cloud-storage) (0.2.8)\n",
      "Requirement already satisfied: rsa<5,>=3.1.4 in c:\\users\\rocha\\anaconda3\\envs\\test_env\\lib\\site-packages (from google-auth<3.0dev,>=2.26.1->google-cloud-storage) (4.9)\n",
      "Requirement already satisfied: six>=1.5 in c:\\users\\rocha\\appdata\\roaming\\python\\python312\\site-packages (from python-dateutil>=2.8.2->pandas) (1.17.0)\n",
      "Requirement already satisfied: charset-normalizer<4,>=2 in c:\\users\\rocha\\anaconda3\\envs\\test_env\\lib\\site-packages (from requests<3.0.0dev,>=2.18.0->google-cloud-storage) (3.3.2)\n",
      "Requirement already satisfied: idna<4,>=2.5 in c:\\users\\rocha\\anaconda3\\envs\\test_env\\lib\\site-packages (from requests<3.0.0dev,>=2.18.0->google-cloud-storage) (3.7)\n",
      "Requirement already satisfied: urllib3<3,>=1.21.1 in c:\\users\\rocha\\anaconda3\\envs\\test_env\\lib\\site-packages (from requests<3.0.0dev,>=2.18.0->google-cloud-storage) (2.3.0)\n",
      "Requirement already satisfied: certifi>=2017.4.17 in c:\\users\\rocha\\anaconda3\\envs\\test_env\\lib\\site-packages (from requests<3.0.0dev,>=2.18.0->google-cloud-storage) (2024.12.14)\n",
      "Requirement already satisfied: pyasn1<0.5.0,>=0.4.6 in c:\\users\\rocha\\anaconda3\\envs\\test_env\\lib\\site-packages (from pyasn1-modules>=0.2.1->google-auth<3.0dev,>=2.26.1->google-cloud-storage) (0.4.8)\n",
      "Note: you may need to restart the kernel to use updated packages.\n"
     ]
    }
   ],
   "source": [
    "pip install pandas pyarrow google-cloud-storage"
   ]
  },
  {
   "cell_type": "code",
   "execution_count": 66,
   "id": "9c299b15-9a85-4ac5-bf88-271722c42f2c",
   "metadata": {},
   "outputs": [],
   "source": [
    "import io\n",
    "import os\n",
    "import requests\n",
    "import pandas as pd\n",
    "from google.cloud import storage"
   ]
  },
  {
   "cell_type": "code",
   "execution_count": 67,
   "id": "f790bdf1-1896-484c-ac9a-13c17a2d0e81",
   "metadata": {},
   "outputs": [],
   "source": [
    "# Set the path to your service account key JSON\n",
    "os.environ[\"GOOGLE_APPLICATION_CREDENTIALS\"] = \"dezoomcamp-447712-02e79e96f81c.json\""
   ]
  },
  {
   "cell_type": "code",
   "execution_count": 68,
   "id": "5fbbc028-5d4f-4be1-b3e1-484c831d6e92",
   "metadata": {},
   "outputs": [],
   "source": [
    "os.environ[\"GCP_GCS_BUCKET\"] = \"parquet2gcp-bucket-rocha\" "
   ]
  },
  {
   "cell_type": "code",
   "execution_count": 69,
   "id": "aac070e3-a77f-417a-9ab2-e92c929e9a5b",
   "metadata": {},
   "outputs": [],
   "source": [
    "# fhv service\n",
    "init_url = 'https://github.com/DataTalksClub/nyc-tlc-data/releases/download/'\n",
    "# switch out the bucketname\n",
    "bucket = os.environ.get(\"GCP_GCS_BUCKET\")"
   ]
  },
  {
   "cell_type": "code",
   "execution_count": 70,
   "id": "97f95286-2dd3-4661-8d12-fb1ecccf74bd",
   "metadata": {},
   "outputs": [],
   "source": [
    "def upload_to_gcs(bucket, object_name, local_file):\n",
    "    \"\"\"\n",
    "    Ref: https://cloud.google.com/storage/docs/uploading-objects#storage-upload-object-python\n",
    "    \"\"\"\n",
    "    # # WORKAROUND to prevent timeout for files > 6 MB on 800 kbps upload speed.\n",
    "    # # (Ref: https://github.com/googleapis/python-storage/issues/74)\n",
    "    storage.blob._MAX_MULTIPART_SIZE = 5 * 1024 * 1024  # 5 MB\n",
    "    storage.blob._DEFAULT_CHUNKSIZE = 5 * 1024 * 1024  # 5 MB\n",
    "\n",
    "    client = storage.Client()\n",
    "    bucket = client.bucket(bucket)\n",
    "    blob = bucket.blob(object_name)\n",
    "    blob.upload_from_filename(local_file)"
   ]
  },
  {
   "cell_type": "code",
   "execution_count": 71,
   "id": "1c9eaa14-8e26-4482-9afe-284f0086951a",
   "metadata": {},
   "outputs": [],
   "source": [
    "def web_to_gcs(year, service):\n",
    "    for i in range(12):\n",
    "        \n",
    "        # sets the month part of the file_name string\n",
    "        month = '0'+str(i+1)\n",
    "        month = month[-2:]\n",
    "\n",
    "        # csv file_name\n",
    "        file_name = f\"{service}_tripdata_{year}-{month}.csv.gz\"\n",
    "\n",
    "        # download it using requests via a pandas df\n",
    "        request_url = f\"{init_url}{service}/{file_name}\"\n",
    "        r = requests.get(request_url)\n",
    "        open(file_name, 'wb').write(r.content)\n",
    "        print(f\"Local: {file_name}\")\n",
    "\n",
    "        # read it back into a parquet file\n",
    "        df = pd.read_csv(file_name, compression='gzip')\n",
    "        file_name = file_name.replace('.csv.gz', '.parquet')\n",
    "        df.to_parquet(file_name, engine='pyarrow')\n",
    "        print(f\"Parquet: {file_name}\")\n",
    "\n",
    "        # upload it to gcs \n",
    "        upload_to_gcs(bucket, f\"{service}/{file_name}\", file_name)\n",
    "        print(f\"GCS: {service}/{file_name}\")"
   ]
  },
  {
   "cell_type": "code",
   "execution_count": 72,
   "id": "adf66444-5f2d-4ee4-a51f-ddeec7675a13",
   "metadata": {},
   "outputs": [
    {
     "name": "stdout",
     "output_type": "stream",
     "text": [
      "Local: fhv_tripdata_2019-01.csv.gz\n",
      "Parquet: fhv_tripdata_2019-01.parquet\n",
      "GCS: fhv/fhv_tripdata_2019-01.parquet\n",
      "Local: fhv_tripdata_2019-02.csv.gz\n",
      "Parquet: fhv_tripdata_2019-02.parquet\n",
      "GCS: fhv/fhv_tripdata_2019-02.parquet\n",
      "Local: fhv_tripdata_2019-03.csv.gz\n",
      "Parquet: fhv_tripdata_2019-03.parquet\n",
      "GCS: fhv/fhv_tripdata_2019-03.parquet\n",
      "Local: fhv_tripdata_2019-04.csv.gz\n",
      "Parquet: fhv_tripdata_2019-04.parquet\n",
      "GCS: fhv/fhv_tripdata_2019-04.parquet\n",
      "Local: fhv_tripdata_2019-05.csv.gz\n",
      "Parquet: fhv_tripdata_2019-05.parquet\n",
      "GCS: fhv/fhv_tripdata_2019-05.parquet\n",
      "Local: fhv_tripdata_2019-06.csv.gz\n",
      "Parquet: fhv_tripdata_2019-06.parquet\n",
      "GCS: fhv/fhv_tripdata_2019-06.parquet\n",
      "Local: fhv_tripdata_2019-07.csv.gz\n",
      "Parquet: fhv_tripdata_2019-07.parquet\n",
      "GCS: fhv/fhv_tripdata_2019-07.parquet\n",
      "Local: fhv_tripdata_2019-08.csv.gz\n",
      "Parquet: fhv_tripdata_2019-08.parquet\n",
      "GCS: fhv/fhv_tripdata_2019-08.parquet\n",
      "Local: fhv_tripdata_2019-09.csv.gz\n",
      "Parquet: fhv_tripdata_2019-09.parquet\n",
      "GCS: fhv/fhv_tripdata_2019-09.parquet\n",
      "Local: fhv_tripdata_2019-10.csv.gz\n",
      "Parquet: fhv_tripdata_2019-10.parquet\n",
      "GCS: fhv/fhv_tripdata_2019-10.parquet\n",
      "Local: fhv_tripdata_2019-11.csv.gz\n",
      "Parquet: fhv_tripdata_2019-11.parquet\n",
      "GCS: fhv/fhv_tripdata_2019-11.parquet\n",
      "Local: fhv_tripdata_2019-12.csv.gz\n",
      "Parquet: fhv_tripdata_2019-12.parquet\n",
      "GCS: fhv/fhv_tripdata_2019-12.parquet\n"
     ]
    }
   ],
   "source": [
    "# Call function for FHV 2019\n",
    "web_to_gcs('2019', 'fhv')"
   ]
  },
  {
   "cell_type": "code",
   "execution_count": null,
   "id": "c2636b2e-0bfc-4291-a88b-f354039485a9",
   "metadata": {},
   "outputs": [],
   "source": []
  },
  {
   "cell_type": "code",
   "execution_count": null,
   "id": "69448ba2-c000-44f1-b58b-ae70b756bc54",
   "metadata": {},
   "outputs": [],
   "source": []
  },
  {
   "cell_type": "code",
   "execution_count": null,
   "id": "316ac45a-41ff-4641-81e2-23877027e633",
   "metadata": {},
   "outputs": [],
   "source": []
  }
 ],
 "metadata": {
  "kernelspec": {
   "display_name": "Python 3 (ipykernel)",
   "language": "python",
   "name": "python3"
  },
  "language_info": {
   "codemirror_mode": {
    "name": "ipython",
    "version": 3
   },
   "file_extension": ".py",
   "mimetype": "text/x-python",
   "name": "python",
   "nbconvert_exporter": "python",
   "pygments_lexer": "ipython3",
   "version": "3.12.8"
  }
 },
 "nbformat": 4,
 "nbformat_minor": 5
}
