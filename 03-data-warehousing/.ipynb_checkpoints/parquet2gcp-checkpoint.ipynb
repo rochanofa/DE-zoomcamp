{
 "cells": [
  {
   "cell_type": "code",
   "execution_count": null,
   "id": "f4d6d490-b79e-4ae0-9614-416640708d97",
   "metadata": {},
   "outputs": [],
   "source": [
    "import os\n",
    "import urllib.request\n",
    "from concurrent.futures import ThreadPoolExecutor\n",
    "from google.cloud import storage\n",
    "import time"
   ]
  },
  {
   "cell_type": "code",
   "execution_count": null,
   "id": "220dc38a-eeda-4638-a337-90e649adc47c",
   "metadata": {},
   "outputs": [],
   "source": [
    "pip install google.cloud"
   ]
  },
  {
   "cell_type": "code",
   "execution_count": null,
   "id": "25cadef8-4c30-4635-857b-e7cbf801f840",
   "metadata": {},
   "outputs": [],
   "source": [
    "import os\n",
    "import urllib.request\n",
    "from concurrent.futures import ThreadPoolExecutor\n",
    "from google.cloud import storage\n",
    "import time"
   ]
  },
  {
   "cell_type": "code",
   "execution_count": null,
   "id": "30e1983a-d699-4fbb-8eb8-add1120da05a",
   "metadata": {},
   "outputs": [],
   "source": [
    "import os\n",
    "import urllib.request\n",
    "from concurrent.futures import ThreadPoolExecutor\n",
    "from google.cloud import storage\n",
    "import time"
   ]
  },
  {
   "cell_type": "code",
   "execution_count": null,
   "id": "e4947284-af21-4d71-9429-266b004c383f",
   "metadata": {},
   "outputs": [],
   "source": [
    "pip install google.cloud"
   ]
  },
  {
   "cell_type": "code",
   "execution_count": null,
   "id": "afa66f2c-07fc-4466-88f3-7807886cf4f4",
   "metadata": {},
   "outputs": [],
   "source": [
    "from google.cloud import storage"
   ]
  },
  {
   "cell_type": "code",
   "execution_count": null,
   "id": "6c8d7965-0b58-4bc0-a38b-841169cb5bd7",
   "metadata": {},
   "outputs": [],
   "source": [
    "pip install google-cloud"
   ]
  },
  {
   "cell_type": "code",
   "execution_count": null,
   "id": "73d2ba57-3837-4515-a54b-51e61270fcc2",
   "metadata": {},
   "outputs": [],
   "source": [
    "import os\n",
    "import urllib.request\n",
    "from concurrent.futures import ThreadPoolExecutor\n",
    "from google.cloud import storage\n",
    "import time"
   ]
  },
  {
   "cell_type": "code",
   "execution_count": null,
   "id": "8e7d38b1-bcb8-44b1-ab0b-1cc9694ec54a",
   "metadata": {},
   "outputs": [],
   "source": [
    "pip uninstall google-cloud"
   ]
  },
  {
   "cell_type": "code",
   "execution_count": 1,
   "id": "c66342cc-4ae2-4345-88ed-1d7ab33f48a2",
   "metadata": {},
   "outputs": [
    {
     "name": "stdout",
     "output_type": "stream",
     "text": [
      "Collecting google-cloud-storage\n",
      "  Downloading google_cloud_storage-3.0.0-py2.py3-none-any.whl.metadata (12 kB)\n",
      "Collecting google-auth<3.0dev,>=2.26.1 (from google-cloud-storage)\n",
      "  Downloading google_auth-2.38.0-py2.py3-none-any.whl.metadata (4.8 kB)\n",
      "Collecting google-api-core<3.0.0dev,>=2.15.0 (from google-cloud-storage)\n",
      "  Downloading google_api_core-2.24.1-py3-none-any.whl.metadata (3.0 kB)\n",
      "Collecting google-cloud-core<3.0dev,>=2.3.0 (from google-cloud-storage)\n",
      "  Downloading google_cloud_core-2.4.1-py2.py3-none-any.whl.metadata (2.7 kB)\n",
      "Collecting google-resumable-media>=2.7.2 (from google-cloud-storage)\n",
      "  Downloading google_resumable_media-2.7.2-py2.py3-none-any.whl.metadata (2.2 kB)\n",
      "Requirement already satisfied: requests<3.0.0dev,>=2.18.0 in c:\\users\\rocha\\anaconda3\\envs\\test_env\\lib\\site-packages (from google-cloud-storage) (2.32.3)\n",
      "Collecting google-crc32c<2.0dev,>=1.0 (from google-cloud-storage)\n",
      "  Downloading google_crc32c-1.6.0-cp312-cp312-win_amd64.whl.metadata (2.4 kB)\n",
      "Collecting googleapis-common-protos<2.0.dev0,>=1.56.2 (from google-api-core<3.0.0dev,>=2.15.0->google-cloud-storage)\n",
      "  Downloading googleapis_common_protos-1.66.0-py2.py3-none-any.whl.metadata (1.5 kB)\n",
      "Requirement already satisfied: protobuf!=3.20.0,!=3.20.1,!=4.21.0,!=4.21.1,!=4.21.2,!=4.21.3,!=4.21.4,!=4.21.5,<6.0.0.dev0,>=3.19.5 in c:\\users\\rocha\\anaconda3\\envs\\test_env\\lib\\site-packages (from google-api-core<3.0.0dev,>=2.15.0->google-cloud-storage) (4.25.3)\n",
      "Collecting proto-plus<2.0.0dev,>=1.22.3 (from google-api-core<3.0.0dev,>=2.15.0->google-cloud-storage)\n",
      "  Downloading proto_plus-1.26.0-py3-none-any.whl.metadata (2.2 kB)\n",
      "Requirement already satisfied: cachetools<6.0,>=2.0.0 in c:\\users\\rocha\\anaconda3\\envs\\test_env\\lib\\site-packages (from google-auth<3.0dev,>=2.26.1->google-cloud-storage) (5.3.3)\n",
      "Requirement already satisfied: pyasn1-modules>=0.2.1 in c:\\users\\rocha\\anaconda3\\envs\\test_env\\lib\\site-packages (from google-auth<3.0dev,>=2.26.1->google-cloud-storage) (0.2.8)\n",
      "Collecting rsa<5,>=3.1.4 (from google-auth<3.0dev,>=2.26.1->google-cloud-storage)\n",
      "  Downloading rsa-4.9-py3-none-any.whl.metadata (4.2 kB)\n",
      "Requirement already satisfied: charset-normalizer<4,>=2 in c:\\users\\rocha\\anaconda3\\envs\\test_env\\lib\\site-packages (from requests<3.0.0dev,>=2.18.0->google-cloud-storage) (3.3.2)\n",
      "Requirement already satisfied: idna<4,>=2.5 in c:\\users\\rocha\\anaconda3\\envs\\test_env\\lib\\site-packages (from requests<3.0.0dev,>=2.18.0->google-cloud-storage) (3.7)\n",
      "Requirement already satisfied: urllib3<3,>=1.21.1 in c:\\users\\rocha\\anaconda3\\envs\\test_env\\lib\\site-packages (from requests<3.0.0dev,>=2.18.0->google-cloud-storage) (2.3.0)\n",
      "Requirement already satisfied: certifi>=2017.4.17 in c:\\users\\rocha\\anaconda3\\envs\\test_env\\lib\\site-packages (from requests<3.0.0dev,>=2.18.0->google-cloud-storage) (2024.12.14)\n",
      "Requirement already satisfied: pyasn1<0.5.0,>=0.4.6 in c:\\users\\rocha\\anaconda3\\envs\\test_env\\lib\\site-packages (from pyasn1-modules>=0.2.1->google-auth<3.0dev,>=2.26.1->google-cloud-storage) (0.4.8)\n",
      "Downloading google_cloud_storage-3.0.0-py2.py3-none-any.whl (173 kB)\n",
      "Downloading google_api_core-2.24.1-py3-none-any.whl (160 kB)\n",
      "Downloading google_auth-2.38.0-py2.py3-none-any.whl (210 kB)\n",
      "Downloading google_cloud_core-2.4.1-py2.py3-none-any.whl (29 kB)\n",
      "Downloading google_crc32c-1.6.0-cp312-cp312-win_amd64.whl (33 kB)\n",
      "Downloading google_resumable_media-2.7.2-py2.py3-none-any.whl (81 kB)\n",
      "Downloading googleapis_common_protos-1.66.0-py2.py3-none-any.whl (221 kB)\n",
      "Downloading proto_plus-1.26.0-py3-none-any.whl (50 kB)\n",
      "Downloading rsa-4.9-py3-none-any.whl (34 kB)\n",
      "Installing collected packages: rsa, proto-plus, googleapis-common-protos, google-crc32c, google-resumable-media, google-auth, google-api-core, google-cloud-core, google-cloud-storage\n",
      "Successfully installed google-api-core-2.24.1 google-auth-2.38.0 google-cloud-core-2.4.1 google-cloud-storage-3.0.0 google-crc32c-1.6.0 google-resumable-media-2.7.2 googleapis-common-protos-1.66.0 proto-plus-1.26.0 rsa-4.9\n",
      "Note: you may need to restart the kernel to use updated packages.\n"
     ]
    }
   ],
   "source": [
    "pip install google-cloud-storage"
   ]
  },
  {
   "cell_type": "code",
   "execution_count": 1,
   "id": "67864912-e07d-4c0f-9291-01f531e86e7f",
   "metadata": {},
   "outputs": [],
   "source": [
    "import os\n",
    "import urllib.request\n",
    "from concurrent.futures import ThreadPoolExecutor\n",
    "from google.cloud import storage\n",
    "import time"
   ]
  },
  {
   "cell_type": "code",
   "execution_count": 2,
   "id": "4b66a64e-fe6b-4c2d-8749-6c9d60675a60",
   "metadata": {},
   "outputs": [],
   "source": [
    "#var bucket name\n",
    "BUCKET_NAME = \"parquet2gcp-bucket-rocha\"  "
   ]
  },
  {
   "cell_type": "code",
   "execution_count": 4,
   "id": "ba7f160f-dc22-4032-97bc-5ec279b86aed",
   "metadata": {},
   "outputs": [],
   "source": [
    "CREDENTIALS_FILE = \"dezoomcamp-447712-dacc09adf343.json\"\n",
    "client = storage.Client.from_service_account_json(CREDENTIALS_FILE)"
   ]
  },
  {
   "cell_type": "code",
   "execution_count": 6,
   "id": "5be89047-593c-414f-b56b-cdd183d4172b",
   "metadata": {},
   "outputs": [],
   "source": [
    "#download url and add to bucket\n",
    "BASE_URL = \"https://d37ci6vzurychx.cloudfront.net/trip-data/yellow_tripdata_2024-\"\n",
    "MONTHS = [f\"{i:02d}\" for i in range(1, 7)] \n",
    "DOWNLOAD_DIR = \".\"\n",
    "\n",
    "CHUNK_SIZE = 8 * 1024 * 1024  \n",
    "\n",
    "os.makedirs(DOWNLOAD_DIR, exist_ok=True)\n",
    "\n",
    "bucket = client.bucket(BUCKET_NAME)"
   ]
  },
  {
   "cell_type": "code",
   "execution_count": 7,
   "id": "74520a8b-1d1f-4194-b6fe-db4a0f21fb6a",
   "metadata": {},
   "outputs": [],
   "source": [
    "#download function\n",
    "def download_file(month):\n",
    "    url = f\"{BASE_URL}{month}.parquet\"\n",
    "    file_path = os.path.join(DOWNLOAD_DIR, f\"yellow_tripdata_2024-{month}.parquet\")\n",
    "\n",
    "    try:\n",
    "        print(f\"Downloading {url}...\")\n",
    "        urllib.request.urlretrieve(url, file_path)\n",
    "        print(f\"Downloaded: {file_path}\")\n",
    "        return file_path\n",
    "    except Exception as e:\n",
    "        print(f\"Failed to download {url}: {e}\")\n",
    "        return None"
   ]
  },
  {
   "cell_type": "code",
   "execution_count": 8,
   "id": "24209d7f-8662-4974-af0d-eb2e9eac98fe",
   "metadata": {},
   "outputs": [],
   "source": [
    "#verify gcs upload\n",
    "def verify_gcs_upload(blob_name):\n",
    "    return storage.Blob(bucket=bucket, name=blob_name).exists(client)"
   ]
  },
  {
   "cell_type": "code",
   "execution_count": 9,
   "id": "da2578a8-4314-4ced-8bf9-4a8779b9d130",
   "metadata": {},
   "outputs": [],
   "source": [
    "#upload to gcs function\n",
    "def upload_to_gcs(file_path, max_retries=3):\n",
    "    blob_name = os.path.basename(file_path)\n",
    "    blob = bucket.blob(blob_name)\n",
    "    blob.chunk_size = CHUNK_SIZE  \n",
    "    \n",
    "    for attempt in range(max_retries):\n",
    "        try:\n",
    "            print(f\"Uploading {file_path} to {BUCKET_NAME} (Attempt {attempt + 1})...\")\n",
    "            blob.upload_from_filename(file_path)\n",
    "            print(f\"Uploaded: gs://{BUCKET_NAME}/{blob_name}\")\n",
    "            \n",
    "            if verify_gcs_upload(blob_name):\n",
    "                print(f\"Verification successful for {blob_name}\")\n",
    "                return\n",
    "            else:\n",
    "                print(f\"Verification failed for {blob_name}, retrying...\")\n",
    "        except Exception as e:\n",
    "            print(f\"Failed to upload {file_path} to GCS: {e}\")\n",
    "        \n",
    "        time.sleep(5)  \n",
    "    \n",
    "    print(f\"Giving up on {file_path} after {max_retries} attempts.\")"
   ]
  },
  {
   "cell_type": "code",
   "execution_count": 10,
   "id": "0c31c6d4-929a-4529-8e75-60adb7ccee88",
   "metadata": {},
   "outputs": [
    {
     "name": "stdout",
     "output_type": "stream",
     "text": [
      "Downloading https://d37ci6vzurychx.cloudfront.net/trip-data/yellow_tripdata_2024-01.parquet...\n",
      "Downloading https://d37ci6vzurychx.cloudfront.net/trip-data/yellow_tripdata_2024-02.parquet...\n",
      "Downloading https://d37ci6vzurychx.cloudfront.net/trip-data/yellow_tripdata_2024-03.parquet...\n",
      "Downloading https://d37ci6vzurychx.cloudfront.net/trip-data/yellow_tripdata_2024-04.parquet...\n",
      "Downloaded: .\\yellow_tripdata_2024-01.parquet\n",
      "Downloading https://d37ci6vzurychx.cloudfront.net/trip-data/yellow_tripdata_2024-05.parquet...\n",
      "Downloaded: .\\yellow_tripdata_2024-04.parquet\n",
      "Downloading https://d37ci6vzurychx.cloudfront.net/trip-data/yellow_tripdata_2024-06.parquet...\n",
      "Downloaded: .\\yellow_tripdata_2024-03.parquet\n",
      "Downloaded: .\\yellow_tripdata_2024-02.parquet\n",
      "Downloaded: .\\yellow_tripdata_2024-05.parquet\n",
      "Downloaded: .\\yellow_tripdata_2024-06.parquet\n",
      "Uploading .\\yellow_tripdata_2024-01.parquet to parquet2gcp-bucket-rocha (Attempt 1)...\n",
      "Uploading .\\yellow_tripdata_2024-02.parquet to parquet2gcp-bucket-rocha (Attempt 1)...\n",
      "Uploading .\\yellow_tripdata_2024-03.parquet to parquet2gcp-bucket-rocha (Attempt 1)...\n",
      "Uploading .\\yellow_tripdata_2024-04.parquet to parquet2gcp-bucket-rocha (Attempt 1)...\n",
      "Uploaded: gs://parquet2gcp-bucket-rocha/yellow_tripdata_2024-01.parquet\n",
      "Verification successful for yellow_tripdata_2024-01.parquet\n",
      "Uploading .\\yellow_tripdata_2024-05.parquet to parquet2gcp-bucket-rocha (Attempt 1)...\n",
      "Uploaded: gs://parquet2gcp-bucket-rocha/yellow_tripdata_2024-02.parquet\n",
      "Verification successful for yellow_tripdata_2024-02.parquet\n",
      "Uploading .\\yellow_tripdata_2024-06.parquet to parquet2gcp-bucket-rocha (Attempt 1)...\n",
      "Uploaded: gs://parquet2gcp-bucket-rocha/yellow_tripdata_2024-04.parquet\n",
      "Verification successful for yellow_tripdata_2024-04.parquet\n",
      "Uploaded: gs://parquet2gcp-bucket-rocha/yellow_tripdata_2024-03.parquet\n",
      "Verification successful for yellow_tripdata_2024-03.parquet\n",
      "Uploaded: gs://parquet2gcp-bucket-rocha/yellow_tripdata_2024-05.parquet\n",
      "Verification successful for yellow_tripdata_2024-05.parquet\n",
      "Uploaded: gs://parquet2gcp-bucket-rocha/yellow_tripdata_2024-06.parquet\n",
      "Verification successful for yellow_tripdata_2024-06.parquet\n",
      "All files processed and verified.\n"
     ]
    }
   ],
   "source": [
    "if __name__ == \"__main__\":\n",
    "    with ThreadPoolExecutor(max_workers=4) as executor:\n",
    "        file_paths = list(executor.map(download_file, MONTHS))\n",
    "\n",
    "    with ThreadPoolExecutor(max_workers=4) as executor:\n",
    "        executor.map(upload_to_gcs, filter(None, file_paths))  # Remove None values\n",
    "\n",
    "    print(\"All files processed and verified.\")"
   ]
  },
  {
   "cell_type": "code",
   "execution_count": null,
   "id": "1fe28ebc-9686-4a9d-b1b6-26c6b80b3449",
   "metadata": {},
   "outputs": [],
   "source": []
  }
 ],
 "metadata": {
  "kernelspec": {
   "display_name": "Python 3 (ipykernel)",
   "language": "python",
   "name": "python3"
  },
  "language_info": {
   "codemirror_mode": {
    "name": "ipython",
    "version": 3
   },
   "file_extension": ".py",
   "mimetype": "text/x-python",
   "name": "python",
   "nbconvert_exporter": "python",
   "pygments_lexer": "ipython3",
   "version": "3.12.8"
  }
 },
 "nbformat": 4,
 "nbformat_minor": 5
}
